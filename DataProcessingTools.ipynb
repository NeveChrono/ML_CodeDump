{
  "nbformat": 4,
  "nbformat_minor": 0,
  "metadata": {
    "colab": {
      "provenance": [],
      "authorship_tag": "ABX9TyOhg0WHCP0m87Ayi0Qb6a7A",
      "include_colab_link": true
    },
    "kernelspec": {
      "name": "python3",
      "display_name": "Python 3"
    },
    "language_info": {
      "name": "python"
    }
  },
  "cells": [
    {
      "cell_type": "markdown",
      "metadata": {
        "id": "view-in-github",
        "colab_type": "text"
      },
      "source": [
        "<a href=\"https://colab.research.google.com/github/NeveChrono/ML_CodeDump/blob/main/DataProcessingTools.ipynb\" target=\"_parent\"><img src=\"https://colab.research.google.com/assets/colab-badge.svg\" alt=\"Open In Colab\"/></a>"
      ]
    },
    {
      "cell_type": "markdown",
      "source": [
        "Data Preprocessing Tools\n"
      ],
      "metadata": {
        "id": "h_PUEUFeMxj_"
      }
    },
    {
      "cell_type": "markdown",
      "source": [
        "#Import Libraries\n",
        "*   Numpy - work with arrays\n",
        "* Pandas - Import the dataset and create a matrix set\n",
        "* Mathplotlib - Use for visualization\n",
        "*   Scikit learn - Most popular library which is popularly used in ML\n",
        "\n",
        "\n",
        "\n",
        "\n",
        "\n",
        "\n"
      ],
      "metadata": {
        "id": "jkOeYQv_M91M"
      }
    },
    {
      "cell_type": "code",
      "source": [
        "import numpy as np\n",
        "import pandas as pd\n",
        "import matplotlib.pyplot as plt"
      ],
      "metadata": {
        "id": "5JiN9emSNgRZ"
      },
      "execution_count": 2,
      "outputs": []
    },
    {
      "cell_type": "markdown",
      "source": [
        "#Import the Dataset"
      ],
      "metadata": {
        "id": "cbHlzAWeN8TM"
      }
    },
    {
      "cell_type": "code",
      "source": [
        "# creating a variable which has a dataset ie in the form of a dataframe\n",
        "\n",
        "dataset = pd.read_csv('Data.csv')\n",
        "\n",
        "''' In any training model we have two things to work with one is features and\n",
        "the dependent variables which will give me the output. In this case of Data.csv is the\n",
        "date of weather a car was purchased by a person of a certain age country and salary\n",
        "So,\n",
        " Features = Country Age and Salary\n",
        " Dependent Variable = Purchased\n",
        "\n",
        " So we will make prediction if they will purchased or not. Generally features are are written in the first columns\n",
        " and dependent variables are written in the last column.\n",
        "'''\n",
        "# entities:\n",
        "\n",
        "# locate the data in the set based on the index , it has two things [row range , column range]\n",
        "# Basically will select all the rows and columns upto the last one as the last column is not included\n",
        "X = dataset.iloc[:,:-1].values\n",
        "Y = dataset.iloc[:,-1].values\n",
        "\n",
        "# we need to use .values to extract it out\n"
      ],
      "metadata": {
        "id": "Pz6C3F6iOLb6"
      },
      "execution_count": 7,
      "outputs": []
    },
    {
      "cell_type": "markdown",
      "source": [
        "#To check the values we extracted."
      ],
      "metadata": {
        "id": "guBMNfgsRpih"
      }
    },
    {
      "cell_type": "code",
      "source": [
        "print(\"Independent Variable or Features\")\n",
        "print(X)\n",
        "\n",
        "print(\"Dependent Variable\")\n",
        "print(Y)"
      ],
      "metadata": {
        "colab": {
          "base_uri": "https://localhost:8080/"
        },
        "id": "96IkCuMaRW6A",
        "outputId": "ba513fa7-1e7b-444b-86aa-73c983c2a99c"
      },
      "execution_count": 8,
      "outputs": [
        {
          "output_type": "stream",
          "name": "stdout",
          "text": [
            "Independent Variable or Features\n",
            "[['France' 44.0 72000.0]\n",
            " ['Spain' 27.0 48000.0]\n",
            " ['Germany' 30.0 54000.0]\n",
            " ['Spain' 38.0 61000.0]\n",
            " ['Germany' 40.0 nan]\n",
            " ['France' 35.0 58000.0]\n",
            " ['Spain' nan 52000.0]\n",
            " ['France' 48.0 79000.0]\n",
            " ['Germany' 50.0 83000.0]\n",
            " ['France' 37.0 67000.0]]\n",
            "Dependent Variable\n",
            "['No' 'Yes' 'No' 'No' 'Yes' 'Yes' 'No' 'Yes' 'No' 'Yes']\n"
          ]
        }
      ]
    },
    {
      "cell_type": "markdown",
      "source": [
        "# To take care of the Missing Data\n"
      ],
      "metadata": {
        "id": "-0NFwMyXRvXg"
      }
    },
    {
      "cell_type": "markdown",
      "source": [
        "the missing data can cause issues. One way is to ignore that entire reading but it can only work with large dataset having less missing values.\n"
      ],
      "metadata": {
        "id": "V2427NnAT1Xp"
      }
    },
    {
      "cell_type": "markdown",
      "source": [
        "Another way is to replace the data with the average of the entire parameter. Using scikit-learn SimpleImputer"
      ],
      "metadata": {
        "id": "SIrYOrjtTpIY"
      }
    },
    {
      "cell_type": "code",
      "source": [
        "from sklearn.impute import SimpleImputer\n",
        "# we will create instance of the class SimpleImputer\n",
        "# this will be taking finding the empty valuesie np.nan will replacing them with the mean values of the column\n",
        "\n",
        "imputer = SimpleImputer(missing_values=np.nan, strategy='mean')\n",
        "\n",
        "'''\n",
        "to achieve we will use two methods:-\n",
        "1. fit() - finds the missing values and then computes average simultaneously\n",
        "2. transform() - replaces the missing values with the average\n",
        "\n",
        "Since the fit function takes in the data set where it will find the empty number values\n",
        "hence we need to mention which rows to look from out of the entire dataset.\n",
        "That will be col 2 and 3 which is age and salary.\n",
        "\n",
        "As for String and categorical data you need to convert into numerical before u\n",
        "go into the imputer.\n",
        "\n",
        "Common techniques include:\n",
        "\n",
        "    - Label Encoding: Converts each category to a unique integer.\n",
        "    - Ordinal Encoding: Assigns numerical values based on the order of\n",
        "                        categories.\n",
        "    - One-Hot Encoding: Converts categorical values into a binary.\n",
        "\n",
        "    vector with a length equal to the number of unique categories.\n",
        "'''\n",
        "\n",
        "imputer.fit(X[:,1:3])\n",
        "\n",
        "'''\n",
        "Now to transform our dataset by replacing the missing salary\n",
        "ie in the missing value\n",
        "'''\n",
        "X[:,1:3]=imputer.transform(X[:,1:3])\n",
        "\n",
        "\n",
        "\n"
      ],
      "metadata": {
        "id": "YOkm4I9hUw8e"
      },
      "execution_count": 10,
      "outputs": []
    },
    {
      "cell_type": "code",
      "source": [
        "print(X)"
      ],
      "metadata": {
        "colab": {
          "base_uri": "https://localhost:8080/"
        },
        "id": "IXl-fY8BYDO-",
        "outputId": "ce83c40b-b83e-484e-f06c-dd5657c5b3d1"
      },
      "execution_count": 11,
      "outputs": [
        {
          "output_type": "stream",
          "name": "stdout",
          "text": [
            "[['France' 44.0 72000.0]\n",
            " ['Spain' 27.0 48000.0]\n",
            " ['Germany' 30.0 54000.0]\n",
            " ['Spain' 38.0 61000.0]\n",
            " ['Germany' 40.0 63777.77777777778]\n",
            " ['France' 35.0 58000.0]\n",
            " ['Spain' 38.77777777777778 52000.0]\n",
            " ['France' 48.0 79000.0]\n",
            " ['Germany' 50.0 83000.0]\n",
            " ['France' 37.0 67000.0]]\n"
          ]
        }
      ]
    },
    {
      "cell_type": "markdown",
      "source": [
        "# Encoding Categorical Data\n"
      ],
      "metadata": {
        "id": "UYd_NruPaeg-"
      }
    },
    {
      "cell_type": "markdown",
      "source": [
        "As Discussed above it pretty clear teh fit function can only take in data which is in numerical so for category values we need to find a way to do it."
      ],
      "metadata": {
        "id": "NAbSkm_ta-ZA"
      }
    },
    {
      "cell_type": "markdown",
      "source": [
        "One Approach would be to well assign each with 0,1,2.. but this can be interpreted as an order which can mess up the output."
      ],
      "metadata": {
        "id": "1VPKn1r4bJ5Z"
      }
    },
    {
      "cell_type": "markdown",
      "source": [
        "So the best approach will be to split the column into several sub columns based on each value of the category.\n",
        "\n",
        "Assign it a binary vector like <001> or <010> for each value in the category.\n",
        "\n",
        "This can be applied to n number of categorcial values and is called One-Hot Encoding"
      ],
      "metadata": {
        "id": "S0O9vL-NbTFH"
      }
    },
    {
      "cell_type": "code",
      "source": [
        "# We will import two classes to achieve it ColumnTransformer and OneHotEncoder\n",
        "\n",
        "from sklearn.compose import ColumnTransformer\n",
        "from sklearn.preprocessing import OneHotEncoder\n",
        "\n",
        "# create an objects\n",
        "\n",
        "'''\n",
        "The columnTransformer class has two arguments one is transformers and the other is remainder.\n",
        "\n",
        "- transformers basically  tells us what kind of transform we are applying on the column\n",
        "ie encoder to encode it , how the encoding is done and on which index or column name it must be done from that list\n",
        "\n",
        "- remainder ensures that after the transform is done all the classes which where not affected by it are kept\n",
        "using the keyword passthrough\n",
        "\n",
        "   One-Hot Encoding: Converts categorical values into a binary. In case if there are no numeric values take them as false to solve the problem.\n",
        "   and also u can uses indices to mention which index u want but better will be to create a list of columns for which u want to transform\n",
        "\n",
        "'''\n",
        "ct = ColumnTransformer(transformers=[('encoder',OneHotEncoder(),[0])],remainder='passthrough')\n",
        "\n",
        "'''\n",
        "Unlike for the previous case where we have to use fit and transform seperatly to fill in the data\n",
        "we can use an inbuilt method of ColumnTransfromer class called fit_transform. It does the job but has a catch as it doesnt\n",
        "returns in the value as np.array which what we work with so we need to convert the result into a numpy array\n",
        "'''\n",
        "\n",
        "X = np.array(ct.fit_transform(X))\n",
        "print(X)\n"
      ],
      "metadata": {
        "colab": {
          "base_uri": "https://localhost:8080/"
        },
        "id": "hh7DxDPVaoq3",
        "outputId": "f8dd8782-9095-4b2b-fdc0-d0f6bc16b51a"
      },
      "execution_count": 14,
      "outputs": [
        {
          "output_type": "stream",
          "name": "stdout",
          "text": [
            "[[1.0 0.0 0.0 44.0 72000.0]\n",
            " [0.0 0.0 1.0 27.0 48000.0]\n",
            " [0.0 1.0 0.0 30.0 54000.0]\n",
            " [0.0 0.0 1.0 38.0 61000.0]\n",
            " [0.0 1.0 0.0 40.0 63777.77777777778]\n",
            " [1.0 0.0 0.0 35.0 58000.0]\n",
            " [0.0 0.0 1.0 38.77777777777778 52000.0]\n",
            " [1.0 0.0 0.0 48.0 79000.0]\n",
            " [0.0 1.0 0.0 50.0 83000.0]\n",
            " [1.0 0.0 0.0 37.0 67000.0]]\n"
          ]
        }
      ]
    },
    {
      "cell_type": "markdown",
      "source": [
        "For the Output Encoding we will use the label encoder"
      ],
      "metadata": {
        "id": "YolksdGtffKm"
      }
    },
    {
      "cell_type": "code",
      "source": [
        "from sklearn.preprocessing import LabelEncoder\n",
        "\n",
        "# create an Instance of the class\n",
        "\n",
        "le = LabelEncoder()\n",
        "\n",
        "# We dont need an numpy array for this so no need for conversion as this is the result\n",
        "Y = le.fit_transform(Y)\n",
        "print(Y)"
      ],
      "metadata": {
        "colab": {
          "base_uri": "https://localhost:8080/"
        },
        "id": "f-Gqlxnmfj-9",
        "outputId": "53020e48-1b42-4cc1-c27e-2ed553bbaf7d"
      },
      "execution_count": 15,
      "outputs": [
        {
          "output_type": "stream",
          "name": "stdout",
          "text": [
            "[0 1 0 0 1 1 0 1 0 1]\n"
          ]
        }
      ]
    },
    {
      "cell_type": "markdown",
      "source": [
        "# Split The data into Traning and Dataset"
      ],
      "metadata": {
        "id": "lG8hdZ0ygDqw"
      }
    }
  ]
}